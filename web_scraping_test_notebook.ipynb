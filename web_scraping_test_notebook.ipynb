{
 "cells": [
  {
   "cell_type": "code",
   "execution_count": 5,
   "metadata": {},
   "outputs": [],
   "source": [
    "import requests\n",
    "from bs4 import BeautifulSoup"
   ]
  },
  {
   "cell_type": "code",
   "execution_count": 6,
   "metadata": {},
   "outputs": [
    {
     "data": {
      "text/plain": [
       "200"
      ]
     },
     "execution_count": 6,
     "metadata": {},
     "output_type": "execute_result"
    }
   ],
   "source": [
    "url = 'https://www.amazon.in/gp/bestsellers/?ref_=nav_cs_bestsellers'\n",
    "url_data = requests.get(url)\n",
    "url_data.status_code"
   ]
  },
  {
   "cell_type": "code",
   "execution_count": 7,
   "metadata": {},
   "outputs": [],
   "source": [
    "soup = BeautifulSoup(url_data.text, 'html.parser')"
   ]
  },
  {
   "cell_type": "code",
   "execution_count": 8,
   "metadata": {},
   "outputs": [],
   "source": [
    "selection_class = 'a-carousel-heading a-inline-block'"
   ]
  },
  {
   "cell_type": "code",
   "execution_count": 9,
   "metadata": {},
   "outputs": [],
   "source": [
    "h2_tag = soup.find_all('h2', class_=selection_class)"
   ]
  },
  {
   "cell_type": "code",
   "execution_count": 11,
   "metadata": {},
   "outputs": [
    {
     "data": {
      "text/plain": [
       "6"
      ]
     },
     "execution_count": 11,
     "metadata": {},
     "output_type": "execute_result"
    }
   ],
   "source": [
    "len(h2_tag)"
   ]
  },
  {
   "cell_type": "code",
   "execution_count": 12,
   "metadata": {},
   "outputs": [
    {
     "name": "stdout",
     "output_type": "stream",
     "text": [
      "Bestsellers in Software\n",
      "Bestsellers in Computers & Accessories\n",
      "Bestsellers in Clothing & Accessories\n",
      "Bestsellers in Beauty\n",
      "Bestsellers in Industrial & Scientific\n",
      "Bestsellers in Toys & Games\n"
     ]
    }
   ],
   "source": [
    "for tags in h2_tag:\n",
    "    print(tags.text)"
   ]
  },
  {
   "cell_type": "code",
   "execution_count": 13,
   "metadata": {},
   "outputs": [],
   "source": [
    "import pandas as pd"
   ]
  },
  {
   "cell_type": "code",
   "execution_count": 16,
   "metadata": {},
   "outputs": [
    {
     "data": {
      "text/plain": [
       "[<div aria-hidden=\"true\" class=\"p13n-sc-truncate p13n-sc-truncate-desktop-type2 p13n-sc-line-clamp-5\" data-rows=\"5\">McAfee Antivirus 2024 | 1 Device, 3 Year | Antivirus Internet Security Software| Email Delivery</div>,\n",
       " <div aria-hidden=\"true\" class=\"p13n-sc-truncate p13n-sc-truncate-desktop-type2 p13n-sc-line-clamp-5\" data-rows=\"5\">K7 Security K7, Total Security, 1 User, 1 Year, Email Delivery In 30 Min, No Cd</div>,\n",
       " <div aria-hidden=\"true\" class=\"p13n-sc-truncate p13n-sc-truncate-desktop-type2 p13n-sc-line-clamp-5\" data-rows=\"5\">Quick Heal | Antivirus Pro | 1 user | 1 Year | Email Delivery in 1 Hour - no CD</div>,\n",
       " <div aria-hidden=\"true\" class=\"p13n-sc-truncate p13n-sc-truncate-desktop-type2 p13n-sc-line-clamp-5\" data-rows=\"5\">Bitdefender - 1 Computer,3 Years - Total Security | Windows | Latest Version | Email Delivery In 2 Hours- No Cd |</div>,\n",
       " <div aria-hidden=\"true\" class=\"p13n-sc-truncate p13n-sc-truncate-desktop-type2 p13n-sc-line-clamp-5\" data-rows=\"5\">Quick Heal | Total Security | 1 User | 3 Years | Email Delivery in 1 Hour - no CD</div>,\n",
       " <div aria-hidden=\"true\" class=\"p13n-sc-truncate p13n-sc-truncate-desktop-type2 p13n-sc-line-clamp-5\" data-rows=\"5\">Kaspersky | Total Security | 1 Device | 1 Year | Email Delivery in 1 Hour - No CD</div>,\n",
       " <div aria-hidden=\"true\" class=\"p13n-sc-truncate p13n-sc-truncate-desktop-type2 p13n-sc-line-clamp-5\" data-rows=\"5\">FUR JADEN Anti Theft Number Lock Backpack Bag with 15.6 Inch Laptop Compartment, USB Charging Port &amp; Organizer Pocket for Men Women Boys Girls</div>,\n",
       " <div aria-hidden=\"true\" class=\"p13n-sc-truncate p13n-sc-truncate-desktop-type2 p13n-sc-line-clamp-5\" data-rows=\"5\">Rellon Industries Study Table for Students Bed Table for Study Foldable Laptop Table Portable &amp; Lightweight Mini Table Bed Reading Table,Laptop Stands, Laptop Desk (A1)</div>,\n",
       " <div aria-hidden=\"true\" class=\"p13n-sc-truncate p13n-sc-truncate-desktop-type2 p13n-sc-line-clamp-5\" data-rows=\"5\">Safari Omega spacious/large laptop backpack with Raincover, college bag, travel bag for men and women, Teal,</div>,\n",
       " <div aria-hidden=\"true\" class=\"p13n-sc-truncate p13n-sc-truncate-desktop-type2 p13n-sc-line-clamp-5\" data-rows=\"5\">Ambrane Unbreakable 3A Fast Charging 1.5m Braided Type C Cable for Smartphones, Tablets, Laptops &amp; other Type C devices, 480Mbps Data Sync, Quick Charge 3.0 (RCT15A, Black)</div>,\n",
       " <div aria-hidden=\"true\" class=\"p13n-sc-truncate p13n-sc-truncate-desktop-type2 p13n-sc-line-clamp-5\" data-rows=\"5\">HP M260 RGB Backlighting USB Wired Gaming Mouse, Customizable 6400 DPI, Ergonomic Design, Non-Slip Roller, Lightweighted /3 Years Warranty (7ZZ81AA),Black</div>,\n",
       " <div aria-hidden=\"true\" class=\"p13n-sc-truncate p13n-sc-truncate-desktop-type2 p13n-sc-line-clamp-5\" data-rows=\"5\">boAt Type C A325/A320 Tangle-free, Sturdy Type C Cable with 3A Rapid Charging &amp; 480mbps Data Transmission(Black)</div>,\n",
       " <div aria-hidden=\"true\" class=\"p13n-sc-truncate p13n-sc-truncate-desktop-type2 p13n-sc-line-clamp-5\" data-rows=\"5\">SJeware 12 Pairs Solid Ankle Socks for Men &amp; Women, Multicolor, Pack of 12, Free Size</div>,\n",
       " <div aria-hidden=\"true\" class=\"p13n-sc-truncate p13n-sc-truncate-desktop-type2 p13n-sc-line-clamp-5\" data-rows=\"5\">Lymio Men Cargo || Men Cargo Pants || Men Cargo Pants Cotton || Cargos for Men (Cargo-01-04)</div>,\n",
       " <div aria-hidden=\"true\" class=\"p13n-sc-truncate p13n-sc-truncate-desktop-type2 p13n-sc-line-clamp-5\" data-rows=\"5\">Ben Martin Men's Relaxed Fit Jeans</div>,\n",
       " <div aria-hidden=\"true\" class=\"p13n-sc-truncate p13n-sc-truncate-desktop-type2 p13n-sc-line-clamp-5\" data-rows=\"5\">Lymio Casual Shirt for Men|| Shirt for Men|| Men Stylish Shirt (D-Crush-16-23)</div>,\n",
       " <div aria-hidden=\"true\" class=\"p13n-sc-truncate p13n-sc-truncate-desktop-type2 p13n-sc-line-clamp-5\" data-rows=\"5\">SELLORIA Brand A Soft Cotton Adjustable Unisex Cap Quick Drying Sun Hat Protection for Men and Women (Freesize)</div>,\n",
       " <div aria-hidden=\"true\" class=\"p13n-sc-truncate p13n-sc-truncate-desktop-type2 p13n-sc-line-clamp-5\" data-rows=\"5\">SJeware 5 Pairs Solid Ankle Length Socks for Men &amp; Women, Multicolor, Pack of 5, Free Size</div>,\n",
       " <div aria-hidden=\"true\" class=\"p13n-sc-truncate p13n-sc-truncate-desktop-type2 p13n-sc-line-clamp-5\" data-rows=\"5\">WOW Skin Science Sunscreen Gel For All Skin Types | SPF 55 PA++++ | With Glutathione &amp; Aloe Vera Extract | Lightweight | Quick Absorbing | No White Cast | UVA &amp; UVB Protection | 10 ml</div>,\n",
       " <div aria-hidden=\"true\" class=\"p13n-sc-truncate p13n-sc-truncate-desktop-type2 p13n-sc-line-clamp-5\" data-rows=\"5\">The Derma Co Hyaluronic Sunscreen Aqua Ultra Light Gel With Spf 50 Pa++++ For Broad Spectrum, UV A, UV B &amp; Blue Light Protection For Oily Skin - 50G(Dermaco), Pack Of 1</div>,\n",
       " <div aria-hidden=\"true\" class=\"p13n-sc-truncate p13n-sc-truncate-desktop-type2 p13n-sc-line-clamp-5\" data-rows=\"5\">Ice Face Roller Silicone Facial Cube for Eyes Neck Massage Remove Dark Circle Pore Shrink Face Beauty Skin Care Ice Mould Kitchen Tools (PURPLE)</div>,\n",
       " <div aria-hidden=\"true\" class=\"p13n-sc-truncate p13n-sc-truncate-desktop-type2 p13n-sc-line-clamp-5\" data-rows=\"5\">Cetaphil Face Wash Gentle Skin Cleanser for Dry to Normal, Sensitive Skin, 125 ml Hydrating Face Wash with Niacinamide, Vitamin B5</div>,\n",
       " <div aria-hidden=\"true\" class=\"p13n-sc-truncate p13n-sc-truncate-desktop-type2 p13n-sc-line-clamp-5\" data-rows=\"5\">Aqualogica Glow+ Dewy Sunscreen SPF 50 PA++++ | UVA/B &amp; Blue Light Protection for Men &amp; Women | Oily, Dry, Sensitive &amp; Combination Skin | Fragrance-Free | 50g</div>,\n",
       " <div aria-hidden=\"true\" class=\"p13n-sc-truncate p13n-sc-truncate-desktop-type2 p13n-sc-line-clamp-5\" data-rows=\"5\">Dettol Liquid Handwash Refill – Skincare Hand Wash- 1500ml | pH Balanced | 10x Better Germ Protection</div>,\n",
       " <div aria-hidden=\"true\" class=\"p13n-sc-truncate p13n-sc-truncate-desktop-type2 p13n-sc-line-clamp-5\" data-rows=\"5\">Pidilite Roff Cera Clean All Purpose Tile, Floor &amp; Wall Cleaner ‘1 Litre’, Advance Tile Cleaner for Kitchen, Bedroom &amp; Bathroom Floors, Removes Grease, Dirt &amp; Tough Stains</div>,\n",
       " <div aria-hidden=\"true\" class=\"p13n-sc-truncate p13n-sc-truncate-desktop-type2 p13n-sc-line-clamp-5\" data-rows=\"5\">Konvio Neer Imported TDS Meter, Total Dissolved Solids Meter, Water Quality Tester, PPM Tester For Water Testing</div>,\n",
       " <div aria-hidden=\"true\" class=\"p13n-sc-truncate p13n-sc-truncate-desktop-type2 p13n-sc-line-clamp-5\" data-rows=\"5\">Rylan Leakage Repair Waterproof Tape for Pipe Leakage Roof Water Leakage Solution Aluminium Foil Tape Waterproof Adhesive Tape Sealing Butyl Rubber Tape for Leakage (5CM*5M (Pack Of 1))</div>,\n",
       " <div aria-hidden=\"true\" class=\"p13n-sc-truncate p13n-sc-truncate-desktop-type2 p13n-sc-line-clamp-5\" data-rows=\"5\">Dr. Fixit Kwik N Ezee Wall Gap &amp; Crack Filler, 150gm (White), DIY Waterproofing for Home Repairs, Kitchen Sink &amp; Wall Cracks, Bathroom Tile Gaps Sealant, Metal, Wood, PVC, Best for Wet &amp; Damp areas</div>,\n",
       " <div aria-hidden=\"true\" class=\"p13n-sc-truncate p13n-sc-truncate-desktop-type2 p13n-sc-line-clamp-5\" data-rows=\"5\">Themisto TH-TDS10 Digital TDS Meter</div>,\n",
       " <div aria-hidden=\"true\" class=\"p13n-sc-truncate p13n-sc-truncate-desktop-type2 p13n-sc-line-clamp-5\" data-rows=\"5\">CARE VIEW Careview Hand Gloves | Pack of 200 | Transparent Gloves | Universal Size Gloves | For Gardening, Cleaning and Public Areas.</div>,\n",
       " <div aria-hidden=\"true\" class=\"p13n-sc-truncate p13n-sc-truncate-desktop-type2 p13n-sc-line-clamp-5\" data-rows=\"5\">Popsugar Off Roader Rechargeable Remote Control Monster Truck with 2 Speeds and 4 Headlight Modes | Lithium Battery | C-Type Charging | Remote Control Car for Kids | Made in India, Black Mat</div>,\n",
       " <div aria-hidden=\"true\" class=\"p13n-sc-truncate p13n-sc-truncate-desktop-type2 p13n-sc-line-clamp-5\" data-rows=\"5\">Mattel Uno Playing Card Game for 7 Yrs and Above for Adult,set of 112 cards</div>,\n",
       " <div aria-hidden=\"true\" class=\"p13n-sc-truncate p13n-sc-truncate-desktop-type2 p13n-sc-line-clamp-5\" data-rows=\"5\">Amazon Brand - Jam &amp; Honey Penguin, Plush/Soft Toy for Boys, Girls and Kids, Super-Soft, Safe, Great Birthday Gift (Black and White, 17 cm)</div>,\n",
       " <div aria-hidden=\"true\" class=\"p13n-sc-truncate p13n-sc-truncate-desktop-type2 p13n-sc-line-clamp-5\" data-rows=\"5\">Storio Toys Dancing Cactus Talking Toy, Cactus Plush Toy, Wriggle &amp; Singing Recording Repeat What You Say Funny Education Toys for Babies Children Playing, Home Decorate</div>,\n",
       " <div aria-hidden=\"true\" class=\"p13n-sc-truncate p13n-sc-truncate-desktop-type2 p13n-sc-line-clamp-5\" data-rows=\"5\">GRAPHENE® Monster Truck Toys for Kids Friction Powered Monster Truck Car Toy for Baby Push &amp; Go Toys 4wd Monster Truck for Boys &amp; Girls Multi Color (Pack of 1)</div>,\n",
       " <div aria-hidden=\"true\" class=\"p13n-sc-truncate p13n-sc-truncate-desktop-type2 p13n-sc-line-clamp-5\" data-rows=\"5\">Einstein Box Ultimate Science Kit for Boys and Girls Ages 6-8-10-12-14 Years| Birthday Gifts Ideas for Kids| STEM Learning Toys for 6,7,8,9,10,11,12,13,14 Year Olds|</div>]"
      ]
     },
     "execution_count": 16,
     "metadata": {},
     "output_type": "execute_result"
    }
   ],
   "source": [
    "selection_class = 'p13n-sc-truncate p13n-sc-truncate-desktop-type2 p13n-sc-line-clamp-5'\n",
    "div_tag = soup.find_all('div', class_=selection_class)\n",
    "len(div_tag)\n"
   ]
  }
 ],
 "metadata": {
  "kernelspec": {
   "display_name": ".web_scraping_venv",
   "language": "python",
   "name": "python3"
  },
  "language_info": {
   "codemirror_mode": {
    "name": "ipython",
    "version": 3
   },
   "file_extension": ".py",
   "mimetype": "text/x-python",
   "name": "python",
   "nbconvert_exporter": "python",
   "pygments_lexer": "ipython3",
   "version": "3.10.3"
  }
 },
 "nbformat": 4,
 "nbformat_minor": 2
}
